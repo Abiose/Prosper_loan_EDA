{
 "cells": [
  {
   "cell_type": "markdown",
   "id": "d02efe78",
   "metadata": {
    "slideshow": {
     "slide_type": "slide"
    }
   },
   "source": [
    "## Part II - Key Insight On the Prosper Loan Analysis\n",
    "## By David Abiose"
   ]
  },
  {
   "cell_type": "markdown",
   "id": "62054afc",
   "metadata": {
    "slideshow": {
     "slide_type": "slide"
    }
   },
   "source": [
    "## Investigation Overview\n",
    "\n",
    "> In this inquiry, we will investigate crucial factors that influence loans, their distribution, and their effects on loan amounts.\n",
    "\n",
    "## Dataset Overview\n",
    "\n",
    "> The prosper loan data set contains 113,937 loans with 81 variables on each loan, including loan amount, borrower rate (or interest rate), current loan status, borrower income, and many others. After the dataset underwent various evaluations, we decided to clean it up and make certain adjustments and modifications to improve our study."
   ]
  },
  {
   "cell_type": "code",
   "execution_count": 1,
   "id": "5a6d3069",
   "metadata": {
    "slideshow": {
     "slide_type": "skip"
    }
   },
   "outputs": [],
   "source": [
    "# import all packages and set plots to be embedded inline\n",
    "import numpy as np\n",
    "import pandas as pd\n",
    "import matplotlib.pyplot as plt\n",
    "import seaborn as sns\n",
    "\n",
    "%matplotlib inline\n",
    "\n",
    "import warnings\n",
    "warnings.filterwarnings(\"ignore\")\n"
   ]
  },
  {
   "cell_type": "code",
   "execution_count": 2,
   "id": "feb78eb9",
   "metadata": {
    "slideshow": {
     "slide_type": "skip"
    }
   },
   "outputs": [
    {
     "data": {
      "text/html": [
       "<div>\n",
       "<style scoped>\n",
       "    .dataframe tbody tr th:only-of-type {\n",
       "        vertical-align: middle;\n",
       "    }\n",
       "\n",
       "    .dataframe tbody tr th {\n",
       "        vertical-align: top;\n",
       "    }\n",
       "\n",
       "    .dataframe thead th {\n",
       "        text-align: right;\n",
       "    }\n",
       "</style>\n",
       "<table border=\"1\" class=\"dataframe\">\n",
       "  <thead>\n",
       "    <tr style=\"text-align: right;\">\n",
       "      <th></th>\n",
       "      <th>ListingKey</th>\n",
       "      <th>ListingNumber</th>\n",
       "      <th>ListingCreationDate</th>\n",
       "      <th>CreditGrade</th>\n",
       "      <th>Term</th>\n",
       "      <th>LoanStatus</th>\n",
       "      <th>ClosedDate</th>\n",
       "      <th>BorrowerAPR</th>\n",
       "      <th>BorrowerRate</th>\n",
       "      <th>LenderYield</th>\n",
       "      <th>...</th>\n",
       "      <th>LP_ServiceFees</th>\n",
       "      <th>LP_CollectionFees</th>\n",
       "      <th>LP_GrossPrincipalLoss</th>\n",
       "      <th>LP_NetPrincipalLoss</th>\n",
       "      <th>LP_NonPrincipalRecoverypayments</th>\n",
       "      <th>PercentFunded</th>\n",
       "      <th>Recommendations</th>\n",
       "      <th>InvestmentFromFriendsCount</th>\n",
       "      <th>InvestmentFromFriendsAmount</th>\n",
       "      <th>Investors</th>\n",
       "    </tr>\n",
       "  </thead>\n",
       "  <tbody>\n",
       "    <tr>\n",
       "      <th>0</th>\n",
       "      <td>1021339766868145413AB3B</td>\n",
       "      <td>193129</td>\n",
       "      <td>2007-08-26 19:09:29.263000000</td>\n",
       "      <td>C</td>\n",
       "      <td>36</td>\n",
       "      <td>Completed</td>\n",
       "      <td>2009-08-14 00:00:00</td>\n",
       "      <td>0.16516</td>\n",
       "      <td>0.1580</td>\n",
       "      <td>0.1380</td>\n",
       "      <td>...</td>\n",
       "      <td>-133.18</td>\n",
       "      <td>0.0</td>\n",
       "      <td>0.0</td>\n",
       "      <td>0.0</td>\n",
       "      <td>0.0</td>\n",
       "      <td>1.0</td>\n",
       "      <td>0</td>\n",
       "      <td>0</td>\n",
       "      <td>0.0</td>\n",
       "      <td>258</td>\n",
       "    </tr>\n",
       "    <tr>\n",
       "      <th>1</th>\n",
       "      <td>10273602499503308B223C1</td>\n",
       "      <td>1209647</td>\n",
       "      <td>2014-02-27 08:28:07.900000000</td>\n",
       "      <td>NaN</td>\n",
       "      <td>36</td>\n",
       "      <td>Current</td>\n",
       "      <td>NaN</td>\n",
       "      <td>0.12016</td>\n",
       "      <td>0.0920</td>\n",
       "      <td>0.0820</td>\n",
       "      <td>...</td>\n",
       "      <td>0.00</td>\n",
       "      <td>0.0</td>\n",
       "      <td>0.0</td>\n",
       "      <td>0.0</td>\n",
       "      <td>0.0</td>\n",
       "      <td>1.0</td>\n",
       "      <td>0</td>\n",
       "      <td>0</td>\n",
       "      <td>0.0</td>\n",
       "      <td>1</td>\n",
       "    </tr>\n",
       "    <tr>\n",
       "      <th>2</th>\n",
       "      <td>0EE9337825851032864889A</td>\n",
       "      <td>81716</td>\n",
       "      <td>2007-01-05 15:00:47.090000000</td>\n",
       "      <td>HR</td>\n",
       "      <td>36</td>\n",
       "      <td>Completed</td>\n",
       "      <td>2009-12-17 00:00:00</td>\n",
       "      <td>0.28269</td>\n",
       "      <td>0.2750</td>\n",
       "      <td>0.2400</td>\n",
       "      <td>...</td>\n",
       "      <td>-24.20</td>\n",
       "      <td>0.0</td>\n",
       "      <td>0.0</td>\n",
       "      <td>0.0</td>\n",
       "      <td>0.0</td>\n",
       "      <td>1.0</td>\n",
       "      <td>0</td>\n",
       "      <td>0</td>\n",
       "      <td>0.0</td>\n",
       "      <td>41</td>\n",
       "    </tr>\n",
       "    <tr>\n",
       "      <th>3</th>\n",
       "      <td>0EF5356002482715299901A</td>\n",
       "      <td>658116</td>\n",
       "      <td>2012-10-22 11:02:35.010000000</td>\n",
       "      <td>NaN</td>\n",
       "      <td>36</td>\n",
       "      <td>Current</td>\n",
       "      <td>NaN</td>\n",
       "      <td>0.12528</td>\n",
       "      <td>0.0974</td>\n",
       "      <td>0.0874</td>\n",
       "      <td>...</td>\n",
       "      <td>-108.01</td>\n",
       "      <td>0.0</td>\n",
       "      <td>0.0</td>\n",
       "      <td>0.0</td>\n",
       "      <td>0.0</td>\n",
       "      <td>1.0</td>\n",
       "      <td>0</td>\n",
       "      <td>0</td>\n",
       "      <td>0.0</td>\n",
       "      <td>158</td>\n",
       "    </tr>\n",
       "    <tr>\n",
       "      <th>4</th>\n",
       "      <td>0F023589499656230C5E3E2</td>\n",
       "      <td>909464</td>\n",
       "      <td>2013-09-14 18:38:39.097000000</td>\n",
       "      <td>NaN</td>\n",
       "      <td>36</td>\n",
       "      <td>Current</td>\n",
       "      <td>NaN</td>\n",
       "      <td>0.24614</td>\n",
       "      <td>0.2085</td>\n",
       "      <td>0.1985</td>\n",
       "      <td>...</td>\n",
       "      <td>-60.27</td>\n",
       "      <td>0.0</td>\n",
       "      <td>0.0</td>\n",
       "      <td>0.0</td>\n",
       "      <td>0.0</td>\n",
       "      <td>1.0</td>\n",
       "      <td>0</td>\n",
       "      <td>0</td>\n",
       "      <td>0.0</td>\n",
       "      <td>20</td>\n",
       "    </tr>\n",
       "  </tbody>\n",
       "</table>\n",
       "<p>5 rows × 81 columns</p>\n",
       "</div>"
      ],
      "text/plain": [
       "                ListingKey  ListingNumber            ListingCreationDate  \\\n",
       "0  1021339766868145413AB3B         193129  2007-08-26 19:09:29.263000000   \n",
       "1  10273602499503308B223C1        1209647  2014-02-27 08:28:07.900000000   \n",
       "2  0EE9337825851032864889A          81716  2007-01-05 15:00:47.090000000   \n",
       "3  0EF5356002482715299901A         658116  2012-10-22 11:02:35.010000000   \n",
       "4  0F023589499656230C5E3E2         909464  2013-09-14 18:38:39.097000000   \n",
       "\n",
       "  CreditGrade  Term LoanStatus           ClosedDate  BorrowerAPR  \\\n",
       "0           C    36  Completed  2009-08-14 00:00:00      0.16516   \n",
       "1         NaN    36    Current                  NaN      0.12016   \n",
       "2          HR    36  Completed  2009-12-17 00:00:00      0.28269   \n",
       "3         NaN    36    Current                  NaN      0.12528   \n",
       "4         NaN    36    Current                  NaN      0.24614   \n",
       "\n",
       "   BorrowerRate  LenderYield  ...  LP_ServiceFees  LP_CollectionFees  \\\n",
       "0        0.1580       0.1380  ...         -133.18                0.0   \n",
       "1        0.0920       0.0820  ...            0.00                0.0   \n",
       "2        0.2750       0.2400  ...          -24.20                0.0   \n",
       "3        0.0974       0.0874  ...         -108.01                0.0   \n",
       "4        0.2085       0.1985  ...          -60.27                0.0   \n",
       "\n",
       "   LP_GrossPrincipalLoss  LP_NetPrincipalLoss LP_NonPrincipalRecoverypayments  \\\n",
       "0                    0.0                  0.0                             0.0   \n",
       "1                    0.0                  0.0                             0.0   \n",
       "2                    0.0                  0.0                             0.0   \n",
       "3                    0.0                  0.0                             0.0   \n",
       "4                    0.0                  0.0                             0.0   \n",
       "\n",
       "   PercentFunded  Recommendations InvestmentFromFriendsCount  \\\n",
       "0            1.0                0                          0   \n",
       "1            1.0                0                          0   \n",
       "2            1.0                0                          0   \n",
       "3            1.0                0                          0   \n",
       "4            1.0                0                          0   \n",
       "\n",
       "  InvestmentFromFriendsAmount Investors  \n",
       "0                         0.0       258  \n",
       "1                         0.0         1  \n",
       "2                         0.0        41  \n",
       "3                         0.0       158  \n",
       "4                         0.0        20  \n",
       "\n",
       "[5 rows x 81 columns]"
      ]
     },
     "execution_count": 2,
     "metadata": {},
     "output_type": "execute_result"
    }
   ],
   "source": [
    "#read the dataset into loan dataframe\n",
    "loan = pd.read_csv('prosperLoanData.csv')\n",
    "loan.head()"
   ]
  },
  {
   "cell_type": "markdown",
   "id": "97b129e1",
   "metadata": {
    "slideshow": {
     "slide_type": "skip"
    }
   },
   "source": [
    "### Cleaning the Dataset"
   ]
  },
  {
   "cell_type": "code",
   "execution_count": 3,
   "id": "26448a60",
   "metadata": {
    "slideshow": {
     "slide_type": "skip"
    }
   },
   "outputs": [],
   "source": [
    "# Make copies of original pieces of data\n",
    "loan_clean = loan.copy()"
   ]
  },
  {
   "cell_type": "code",
   "execution_count": 4,
   "id": "a2972d6f",
   "metadata": {
    "slideshow": {
     "slide_type": "skip"
    }
   },
   "outputs": [],
   "source": [
    "#We drop duplicates\n",
    "indexes = loan_clean[loan_clean['ListingKey'].duplicated()].index\n",
    "loan_clean.drop(indexes, inplace=True)"
   ]
  },
  {
   "cell_type": "code",
   "execution_count": 5,
   "id": "7bf6c293",
   "metadata": {
    "slideshow": {
     "slide_type": "skip"
    }
   },
   "outputs": [],
   "source": [
    "#Change Datatype\n",
    "loan_clean['ListingCreationDate'] = pd.to_datetime(loan_clean['ListingCreationDate'])\n",
    "loan_clean['LoanOriginationDate'] = pd.to_datetime(loan_clean['LoanOriginationDate'])\n",
    "loan_clean['ClosedDate'] = pd.to_datetime(loan_clean['ClosedDate'])"
   ]
  },
  {
   "cell_type": "code",
   "execution_count": 6,
   "id": "888b4af9",
   "metadata": {
    "slideshow": {
     "slide_type": "skip"
    }
   },
   "outputs": [],
   "source": [
    "#Join 'ProsperRating (Alpha)' & 'ProsperRating (numeric)' column together to form a new column\n",
    "loan_clean['ProsperRating'] =  loan_clean['ProsperRating (numeric)'].astype(str)+ \" - \" +loan_clean['ProsperRating (Alpha)']"
   ]
  },
  {
   "cell_type": "code",
   "execution_count": 7,
   "id": "0bd9069e",
   "metadata": {
    "slideshow": {
     "slide_type": "skip"
    }
   },
   "outputs": [],
   "source": [
    "#Change the newly formed column to a categorical ordinal variable with each rates level being ranked\n",
    "rating_list = ['1.0 - HR', '2.0 - E', '3.0 - D', '4.0 - C', '5.0 - B', '6.0 - A', '7.0 - AA']\n",
    "\n",
    "ratings = pd.api.types.CategoricalDtype(ordered = True, categories = rating_list)\n",
    "\n",
    "loan_clean['ProsperRating'] = loan_clean['ProsperRating'].astype(ratings)"
   ]
  },
  {
   "cell_type": "code",
   "execution_count": 8,
   "id": "4714c528",
   "metadata": {
    "slideshow": {
     "slide_type": "skip"
    }
   },
   "outputs": [
    {
     "data": {
      "text/plain": [
       "4.0     12443\n",
       "6.0     12161\n",
       "8.0     11953\n",
       "7.0     10489\n",
       "5.0      9732\n",
       "3.0      7565\n",
       "9.0      6865\n",
       "2.0      5706\n",
       "10.0     4691\n",
       "1.0       946\n",
       "Name: ProsperScore, dtype: int64"
      ]
     },
     "execution_count": 8,
     "metadata": {},
     "output_type": "execute_result"
    }
   ],
   "source": [
    "#Replace the 11 values with NaN\n",
    "loan_clean['ProsperScore'] = loan_clean['ProsperScore'].replace(11, np.nan)\n",
    "loan_clean['ProsperScore'].value_counts()"
   ]
  },
  {
   "cell_type": "code",
   "execution_count": 9,
   "id": "696ef933",
   "metadata": {
    "slideshow": {
     "slide_type": "skip"
    }
   },
   "outputs": [],
   "source": [
    "#We cut the Risk scores into levels with 10-Lowest risk level and 1-Highest risk level\n",
    "risk_edges = [1, 2.5, 5.0, 7.5, 10]\n",
    "risk_labels = ['High', 'Medium high', 'Medium', 'Low']\n",
    "\n",
    "loan_clean['ProsperRiskLevel'] = pd.cut(loan_clean['ProsperScore'], risk_edges, labels = risk_labels)"
   ]
  },
  {
   "cell_type": "code",
   "execution_count": 10,
   "id": "9699a43a",
   "metadata": {
    "slideshow": {
     "slide_type": "skip"
    }
   },
   "outputs": [],
   "source": [
    "#Replace the numerical values in the ListingCategory column\n",
    "loan_clean['ListingCategory (numeric)'].replace(0, 'Not Available', inplace=True)\n",
    "loan_clean['ListingCategory (numeric)'].replace(1, 'Debt Consolidation', inplace=True)\n",
    "loan_clean['ListingCategory (numeric)'].replace(2, 'Home Improvement', inplace=True)\n",
    "loan_clean['ListingCategory (numeric)'].replace(3, 'Business', inplace=True)\n",
    "loan_clean['ListingCategory (numeric)'].replace(4, 'Personal Loan', inplace=True)\n",
    "loan_clean['ListingCategory (numeric)'].replace(5, 'Student Use', inplace=True)\n",
    "loan_clean['ListingCategory (numeric)'].replace(6, 'Auto', inplace=True)\n",
    "loan_clean['ListingCategory (numeric)'].replace(7, 'Other', inplace=True)\n",
    "loan_clean['ListingCategory (numeric)'].replace(8, 'Baby&Adoption', inplace=True)\n",
    "loan_clean['ListingCategory (numeric)'].replace(9, 'Boat', inplace=True)\n",
    "loan_clean['ListingCategory (numeric)'].replace(10, 'Cosmetic Procedure', inplace=True)\n",
    "loan_clean['ListingCategory (numeric)'].replace(11, 'Engagement Ring', inplace=True)\n",
    "loan_clean['ListingCategory (numeric)'].replace(12, 'Green Loans', inplace=True)\n",
    "loan_clean['ListingCategory (numeric)'].replace(13, 'Household Expenses', inplace=True)\n",
    "loan_clean['ListingCategory (numeric)'].replace(14, 'Large Purchases', inplace=True)\n",
    "loan_clean['ListingCategory (numeric)'].replace(15, 'Medical/Dental', inplace=True)\n",
    "loan_clean['ListingCategory (numeric)'].replace(16, 'Motorcycle', inplace=True)\n",
    "loan_clean['ListingCategory (numeric)'].replace(17, 'RV', inplace=True)\n",
    "loan_clean['ListingCategory (numeric)'].replace(18, 'Taxes', inplace=True)\n",
    "loan_clean['ListingCategory (numeric)'].replace(19, 'Vacation', inplace=True)\n",
    "loan_clean['ListingCategory (numeric)'].replace(20, 'Wedding Loans', inplace=True)"
   ]
  },
  {
   "cell_type": "markdown",
   "id": "eff23183",
   "metadata": {
    "slideshow": {
     "slide_type": "skip"
    }
   },
   "source": [
    "The category of the listing that the borrower selected when posting their listing: 0 - Not Available, 1 - Debt Consolidation, 2 - Home Improvement, 3 - Business, 4 - Personal Loan, 5 - Student Use, 6 - Auto, 7- Other, 8 - Baby&Adoption, 9 - Boat, 10 - Cosmetic Procedure, 11 - Engagement Ring, 12 - Green Loans, 13 - Household Expenses, 14 - Large Purchases, 15 - Medical/Dental, 16 - Motorcycle, 17 - RV, 18 - Taxes, 19 - Vacation, 20 - Wedding Loans"
   ]
  },
  {
   "cell_type": "code",
   "execution_count": 11,
   "id": "384be65b",
   "metadata": {
    "slideshow": {
     "slide_type": "skip"
    }
   },
   "outputs": [],
   "source": [
    "loan_clean.rename(columns = {'ListingCategory (numeric)': 'ListingCategory'}, inplace=True)"
   ]
  },
  {
   "cell_type": "code",
   "execution_count": 12,
   "id": "23e0cf03",
   "metadata": {
    "slideshow": {
     "slide_type": "skip"
    }
   },
   "outputs": [],
   "source": [
    "#select columns from the dataframe that are useful for analysis\n",
    "loan_clean = loan_clean[['ListingKey', 'ListingCreationDate', 'CreditGrade', 'Term', 'LoanStatus',\n",
    "                        'ClosedDate', 'BorrowerAPR', 'BorrowerRate', 'LenderYield', 'EstimatedEffectiveYield', 'EstimatedLoss',\n",
    "                        'EstimatedReturn', 'ProsperScore', 'ProsperRiskLevel', 'ProsperRating', 'ListingCategory',\n",
    "                         'BorrowerState', 'Occupation', 'EmploymentStatus', 'EmploymentStatusDuration', 'IsBorrowerHomeowner',\n",
    "                        'CreditScoreRangeLower', 'CreditScoreRangeUpper', 'AvailableBankcardCredit', 'IncomeRange',\n",
    "                         'StatedMonthlyIncome','DebtToIncomeRatio', 'LoanOriginalAmount', 'LoanOriginationDate',\n",
    "                         'MonthlyLoanPayment']]"
   ]
  },
  {
   "cell_type": "code",
   "execution_count": 13,
   "id": "78ff95ae",
   "metadata": {
    "slideshow": {
     "slide_type": "skip"
    }
   },
   "outputs": [
    {
     "data": {
      "text/html": [
       "<div>\n",
       "<style scoped>\n",
       "    .dataframe tbody tr th:only-of-type {\n",
       "        vertical-align: middle;\n",
       "    }\n",
       "\n",
       "    .dataframe tbody tr th {\n",
       "        vertical-align: top;\n",
       "    }\n",
       "\n",
       "    .dataframe thead th {\n",
       "        text-align: right;\n",
       "    }\n",
       "</style>\n",
       "<table border=\"1\" class=\"dataframe\">\n",
       "  <thead>\n",
       "    <tr style=\"text-align: right;\">\n",
       "      <th></th>\n",
       "      <th>ListingKey</th>\n",
       "      <th>ListingCreationDate</th>\n",
       "      <th>CreditGrade</th>\n",
       "      <th>Term</th>\n",
       "      <th>LoanStatus</th>\n",
       "      <th>ClosedDate</th>\n",
       "      <th>BorrowerAPR</th>\n",
       "      <th>BorrowerRate</th>\n",
       "      <th>LenderYield</th>\n",
       "      <th>EstimatedEffectiveYield</th>\n",
       "      <th>...</th>\n",
       "      <th>IsBorrowerHomeowner</th>\n",
       "      <th>CreditScoreRangeLower</th>\n",
       "      <th>CreditScoreRangeUpper</th>\n",
       "      <th>AvailableBankcardCredit</th>\n",
       "      <th>IncomeRange</th>\n",
       "      <th>StatedMonthlyIncome</th>\n",
       "      <th>DebtToIncomeRatio</th>\n",
       "      <th>LoanOriginalAmount</th>\n",
       "      <th>LoanOriginationDate</th>\n",
       "      <th>MonthlyLoanPayment</th>\n",
       "    </tr>\n",
       "  </thead>\n",
       "  <tbody>\n",
       "    <tr>\n",
       "      <th>0</th>\n",
       "      <td>1021339766868145413AB3B</td>\n",
       "      <td>2007-08-26 19:09:29.263</td>\n",
       "      <td>C</td>\n",
       "      <td>36</td>\n",
       "      <td>Completed</td>\n",
       "      <td>2009-08-14</td>\n",
       "      <td>0.16516</td>\n",
       "      <td>0.1580</td>\n",
       "      <td>0.1380</td>\n",
       "      <td>NaN</td>\n",
       "      <td>...</td>\n",
       "      <td>True</td>\n",
       "      <td>640.0</td>\n",
       "      <td>659.0</td>\n",
       "      <td>1500.0</td>\n",
       "      <td>$25,000-49,999</td>\n",
       "      <td>3083.333333</td>\n",
       "      <td>0.17</td>\n",
       "      <td>9425</td>\n",
       "      <td>2007-09-12</td>\n",
       "      <td>330.43</td>\n",
       "    </tr>\n",
       "    <tr>\n",
       "      <th>1</th>\n",
       "      <td>10273602499503308B223C1</td>\n",
       "      <td>2014-02-27 08:28:07.900</td>\n",
       "      <td>NaN</td>\n",
       "      <td>36</td>\n",
       "      <td>Current</td>\n",
       "      <td>NaT</td>\n",
       "      <td>0.12016</td>\n",
       "      <td>0.0920</td>\n",
       "      <td>0.0820</td>\n",
       "      <td>0.07960</td>\n",
       "      <td>...</td>\n",
       "      <td>False</td>\n",
       "      <td>680.0</td>\n",
       "      <td>699.0</td>\n",
       "      <td>10266.0</td>\n",
       "      <td>$50,000-74,999</td>\n",
       "      <td>6125.000000</td>\n",
       "      <td>0.18</td>\n",
       "      <td>10000</td>\n",
       "      <td>2014-03-03</td>\n",
       "      <td>318.93</td>\n",
       "    </tr>\n",
       "    <tr>\n",
       "      <th>2</th>\n",
       "      <td>0EE9337825851032864889A</td>\n",
       "      <td>2007-01-05 15:00:47.090</td>\n",
       "      <td>HR</td>\n",
       "      <td>36</td>\n",
       "      <td>Completed</td>\n",
       "      <td>2009-12-17</td>\n",
       "      <td>0.28269</td>\n",
       "      <td>0.2750</td>\n",
       "      <td>0.2400</td>\n",
       "      <td>NaN</td>\n",
       "      <td>...</td>\n",
       "      <td>False</td>\n",
       "      <td>480.0</td>\n",
       "      <td>499.0</td>\n",
       "      <td>NaN</td>\n",
       "      <td>Not displayed</td>\n",
       "      <td>2083.333333</td>\n",
       "      <td>0.06</td>\n",
       "      <td>3001</td>\n",
       "      <td>2007-01-17</td>\n",
       "      <td>123.32</td>\n",
       "    </tr>\n",
       "    <tr>\n",
       "      <th>3</th>\n",
       "      <td>0EF5356002482715299901A</td>\n",
       "      <td>2012-10-22 11:02:35.010</td>\n",
       "      <td>NaN</td>\n",
       "      <td>36</td>\n",
       "      <td>Current</td>\n",
       "      <td>NaT</td>\n",
       "      <td>0.12528</td>\n",
       "      <td>0.0974</td>\n",
       "      <td>0.0874</td>\n",
       "      <td>0.08490</td>\n",
       "      <td>...</td>\n",
       "      <td>True</td>\n",
       "      <td>800.0</td>\n",
       "      <td>819.0</td>\n",
       "      <td>30754.0</td>\n",
       "      <td>$25,000-49,999</td>\n",
       "      <td>2875.000000</td>\n",
       "      <td>0.15</td>\n",
       "      <td>10000</td>\n",
       "      <td>2012-11-01</td>\n",
       "      <td>321.45</td>\n",
       "    </tr>\n",
       "    <tr>\n",
       "      <th>4</th>\n",
       "      <td>0F023589499656230C5E3E2</td>\n",
       "      <td>2013-09-14 18:38:39.097</td>\n",
       "      <td>NaN</td>\n",
       "      <td>36</td>\n",
       "      <td>Current</td>\n",
       "      <td>NaT</td>\n",
       "      <td>0.24614</td>\n",
       "      <td>0.2085</td>\n",
       "      <td>0.1985</td>\n",
       "      <td>0.18316</td>\n",
       "      <td>...</td>\n",
       "      <td>True</td>\n",
       "      <td>680.0</td>\n",
       "      <td>699.0</td>\n",
       "      <td>695.0</td>\n",
       "      <td>$100,000+</td>\n",
       "      <td>9583.333333</td>\n",
       "      <td>0.26</td>\n",
       "      <td>15000</td>\n",
       "      <td>2013-09-20</td>\n",
       "      <td>563.97</td>\n",
       "    </tr>\n",
       "    <tr>\n",
       "      <th>...</th>\n",
       "      <td>...</td>\n",
       "      <td>...</td>\n",
       "      <td>...</td>\n",
       "      <td>...</td>\n",
       "      <td>...</td>\n",
       "      <td>...</td>\n",
       "      <td>...</td>\n",
       "      <td>...</td>\n",
       "      <td>...</td>\n",
       "      <td>...</td>\n",
       "      <td>...</td>\n",
       "      <td>...</td>\n",
       "      <td>...</td>\n",
       "      <td>...</td>\n",
       "      <td>...</td>\n",
       "      <td>...</td>\n",
       "      <td>...</td>\n",
       "      <td>...</td>\n",
       "      <td>...</td>\n",
       "      <td>...</td>\n",
       "      <td>...</td>\n",
       "    </tr>\n",
       "    <tr>\n",
       "      <th>113932</th>\n",
       "      <td>E6D9357655724827169606C</td>\n",
       "      <td>2013-04-14 05:55:02.663</td>\n",
       "      <td>NaN</td>\n",
       "      <td>36</td>\n",
       "      <td>Current</td>\n",
       "      <td>NaT</td>\n",
       "      <td>0.22354</td>\n",
       "      <td>0.1864</td>\n",
       "      <td>0.1764</td>\n",
       "      <td>0.16490</td>\n",
       "      <td>...</td>\n",
       "      <td>True</td>\n",
       "      <td>700.0</td>\n",
       "      <td>719.0</td>\n",
       "      <td>1886.0</td>\n",
       "      <td>$50,000-74,999</td>\n",
       "      <td>4333.333333</td>\n",
       "      <td>0.13</td>\n",
       "      <td>10000</td>\n",
       "      <td>2013-04-22</td>\n",
       "      <td>364.74</td>\n",
       "    </tr>\n",
       "    <tr>\n",
       "      <th>113933</th>\n",
       "      <td>E6DB353036033497292EE43</td>\n",
       "      <td>2011-11-03 20:42:55.333</td>\n",
       "      <td>NaN</td>\n",
       "      <td>36</td>\n",
       "      <td>FinalPaymentInProgress</td>\n",
       "      <td>NaT</td>\n",
       "      <td>0.13220</td>\n",
       "      <td>0.1110</td>\n",
       "      <td>0.1010</td>\n",
       "      <td>0.10070</td>\n",
       "      <td>...</td>\n",
       "      <td>True</td>\n",
       "      <td>700.0</td>\n",
       "      <td>719.0</td>\n",
       "      <td>6658.0</td>\n",
       "      <td>$75,000-99,999</td>\n",
       "      <td>8041.666667</td>\n",
       "      <td>0.11</td>\n",
       "      <td>2000</td>\n",
       "      <td>2011-11-07</td>\n",
       "      <td>65.57</td>\n",
       "    </tr>\n",
       "    <tr>\n",
       "      <th>113934</th>\n",
       "      <td>E6E13596170052029692BB1</td>\n",
       "      <td>2013-12-13 05:49:12.703</td>\n",
       "      <td>NaN</td>\n",
       "      <td>60</td>\n",
       "      <td>Current</td>\n",
       "      <td>NaT</td>\n",
       "      <td>0.23984</td>\n",
       "      <td>0.2150</td>\n",
       "      <td>0.2050</td>\n",
       "      <td>0.18828</td>\n",
       "      <td>...</td>\n",
       "      <td>True</td>\n",
       "      <td>700.0</td>\n",
       "      <td>719.0</td>\n",
       "      <td>7853.0</td>\n",
       "      <td>$25,000-49,999</td>\n",
       "      <td>2875.000000</td>\n",
       "      <td>0.51</td>\n",
       "      <td>10000</td>\n",
       "      <td>2013-12-23</td>\n",
       "      <td>273.35</td>\n",
       "    </tr>\n",
       "    <tr>\n",
       "      <th>113935</th>\n",
       "      <td>E6EB3531504622671970D9E</td>\n",
       "      <td>2011-11-14 13:18:26.597</td>\n",
       "      <td>NaN</td>\n",
       "      <td>60</td>\n",
       "      <td>Completed</td>\n",
       "      <td>2013-08-13</td>\n",
       "      <td>0.28408</td>\n",
       "      <td>0.2605</td>\n",
       "      <td>0.2505</td>\n",
       "      <td>0.24450</td>\n",
       "      <td>...</td>\n",
       "      <td>True</td>\n",
       "      <td>680.0</td>\n",
       "      <td>699.0</td>\n",
       "      <td>4137.0</td>\n",
       "      <td>$25,000-49,999</td>\n",
       "      <td>3875.000000</td>\n",
       "      <td>0.48</td>\n",
       "      <td>15000</td>\n",
       "      <td>2011-11-21</td>\n",
       "      <td>449.55</td>\n",
       "    </tr>\n",
       "    <tr>\n",
       "      <th>113936</th>\n",
       "      <td>E6ED3600409833199F711B7</td>\n",
       "      <td>2014-01-15 09:27:37.657</td>\n",
       "      <td>NaN</td>\n",
       "      <td>36</td>\n",
       "      <td>Current</td>\n",
       "      <td>NaT</td>\n",
       "      <td>0.13189</td>\n",
       "      <td>0.1039</td>\n",
       "      <td>0.0939</td>\n",
       "      <td>0.09071</td>\n",
       "      <td>...</td>\n",
       "      <td>False</td>\n",
       "      <td>680.0</td>\n",
       "      <td>699.0</td>\n",
       "      <td>675.0</td>\n",
       "      <td>$50,000-74,999</td>\n",
       "      <td>4583.333333</td>\n",
       "      <td>0.23</td>\n",
       "      <td>2000</td>\n",
       "      <td>2014-01-21</td>\n",
       "      <td>64.90</td>\n",
       "    </tr>\n",
       "  </tbody>\n",
       "</table>\n",
       "<p>113066 rows × 30 columns</p>\n",
       "</div>"
      ],
      "text/plain": [
       "                     ListingKey     ListingCreationDate CreditGrade  Term  \\\n",
       "0       1021339766868145413AB3B 2007-08-26 19:09:29.263           C    36   \n",
       "1       10273602499503308B223C1 2014-02-27 08:28:07.900         NaN    36   \n",
       "2       0EE9337825851032864889A 2007-01-05 15:00:47.090          HR    36   \n",
       "3       0EF5356002482715299901A 2012-10-22 11:02:35.010         NaN    36   \n",
       "4       0F023589499656230C5E3E2 2013-09-14 18:38:39.097         NaN    36   \n",
       "...                         ...                     ...         ...   ...   \n",
       "113932  E6D9357655724827169606C 2013-04-14 05:55:02.663         NaN    36   \n",
       "113933  E6DB353036033497292EE43 2011-11-03 20:42:55.333         NaN    36   \n",
       "113934  E6E13596170052029692BB1 2013-12-13 05:49:12.703         NaN    60   \n",
       "113935  E6EB3531504622671970D9E 2011-11-14 13:18:26.597         NaN    60   \n",
       "113936  E6ED3600409833199F711B7 2014-01-15 09:27:37.657         NaN    36   \n",
       "\n",
       "                    LoanStatus ClosedDate  BorrowerAPR  BorrowerRate  \\\n",
       "0                    Completed 2009-08-14      0.16516        0.1580   \n",
       "1                      Current        NaT      0.12016        0.0920   \n",
       "2                    Completed 2009-12-17      0.28269        0.2750   \n",
       "3                      Current        NaT      0.12528        0.0974   \n",
       "4                      Current        NaT      0.24614        0.2085   \n",
       "...                        ...        ...          ...           ...   \n",
       "113932                 Current        NaT      0.22354        0.1864   \n",
       "113933  FinalPaymentInProgress        NaT      0.13220        0.1110   \n",
       "113934                 Current        NaT      0.23984        0.2150   \n",
       "113935               Completed 2013-08-13      0.28408        0.2605   \n",
       "113936                 Current        NaT      0.13189        0.1039   \n",
       "\n",
       "        LenderYield  EstimatedEffectiveYield  ...  IsBorrowerHomeowner  \\\n",
       "0            0.1380                      NaN  ...                 True   \n",
       "1            0.0820                  0.07960  ...                False   \n",
       "2            0.2400                      NaN  ...                False   \n",
       "3            0.0874                  0.08490  ...                 True   \n",
       "4            0.1985                  0.18316  ...                 True   \n",
       "...             ...                      ...  ...                  ...   \n",
       "113932       0.1764                  0.16490  ...                 True   \n",
       "113933       0.1010                  0.10070  ...                 True   \n",
       "113934       0.2050                  0.18828  ...                 True   \n",
       "113935       0.2505                  0.24450  ...                 True   \n",
       "113936       0.0939                  0.09071  ...                False   \n",
       "\n",
       "        CreditScoreRangeLower  CreditScoreRangeUpper AvailableBankcardCredit  \\\n",
       "0                       640.0                  659.0                  1500.0   \n",
       "1                       680.0                  699.0                 10266.0   \n",
       "2                       480.0                  499.0                     NaN   \n",
       "3                       800.0                  819.0                 30754.0   \n",
       "4                       680.0                  699.0                   695.0   \n",
       "...                       ...                    ...                     ...   \n",
       "113932                  700.0                  719.0                  1886.0   \n",
       "113933                  700.0                  719.0                  6658.0   \n",
       "113934                  700.0                  719.0                  7853.0   \n",
       "113935                  680.0                  699.0                  4137.0   \n",
       "113936                  680.0                  699.0                   675.0   \n",
       "\n",
       "           IncomeRange StatedMonthlyIncome DebtToIncomeRatio  \\\n",
       "0       $25,000-49,999         3083.333333              0.17   \n",
       "1       $50,000-74,999         6125.000000              0.18   \n",
       "2        Not displayed         2083.333333              0.06   \n",
       "3       $25,000-49,999         2875.000000              0.15   \n",
       "4            $100,000+         9583.333333              0.26   \n",
       "...                ...                 ...               ...   \n",
       "113932  $50,000-74,999         4333.333333              0.13   \n",
       "113933  $75,000-99,999         8041.666667              0.11   \n",
       "113934  $25,000-49,999         2875.000000              0.51   \n",
       "113935  $25,000-49,999         3875.000000              0.48   \n",
       "113936  $50,000-74,999         4583.333333              0.23   \n",
       "\n",
       "       LoanOriginalAmount LoanOriginationDate  MonthlyLoanPayment  \n",
       "0                    9425          2007-09-12              330.43  \n",
       "1                   10000          2014-03-03              318.93  \n",
       "2                    3001          2007-01-17              123.32  \n",
       "3                   10000          2012-11-01              321.45  \n",
       "4                   15000          2013-09-20              563.97  \n",
       "...                   ...                 ...                 ...  \n",
       "113932              10000          2013-04-22              364.74  \n",
       "113933               2000          2011-11-07               65.57  \n",
       "113934              10000          2013-12-23              273.35  \n",
       "113935              15000          2011-11-21              449.55  \n",
       "113936               2000          2014-01-21               64.90  \n",
       "\n",
       "[113066 rows x 30 columns]"
      ]
     },
     "execution_count": 13,
     "metadata": {},
     "output_type": "execute_result"
    }
   ],
   "source": [
    "loan_clean"
   ]
  },
  {
   "cell_type": "markdown",
   "id": "0c3c7a37",
   "metadata": {
    "slideshow": {
     "slide_type": "slide"
    }
   },
   "source": [
    "## Distribution of Borrowers Monthly Income\n",
    "\n",
    "The StatedMonthlyIncome exhibits a normal distribution when plotted on a log-scale, with the numbers forming a symmetrical shape. With the peak lying between $3,000 and $5,000 per month, StatedMonthlyIncome appears to be unimodal. "
   ]
  },
  {
   "cell_type": "code",
   "execution_count": 14,
   "id": "e4195dcd",
   "metadata": {
    "slideshow": {
     "slide_type": "subslide"
    }
   },
   "outputs": [
    {
     "data": {
      "image/png": "[encoded data removed]",
      "text/plain": [
       "<Figure size 576x360 with 1 Axes>"
      ]
     },
     "metadata": {
      "needs_background": "light"
     },
     "output_type": "display_data"
    }
   ],
   "source": [
    "monthly_income = loan_clean['StatedMonthlyIncome'].describe().astype(int)\n",
    "bins = 10**np.arange(2.5,np.log10(monthly_income.max())+0.05 , 0.05)\n",
    "\n",
    "plt.figure(figsize = [8, 5])\n",
    "plt.hist(data = loan_clean, x = 'StatedMonthlyIncome', bins = bins)\n",
    "plt.xlabel('Monthly Income ($)')\n",
    "plt.xscale('log')\n",
    "plt.xticks([300, 1e3, 3e3, 1e4, 3e4, 1e5, 3e5 ], [300, '1k', '3k', '10k', '30k', '100k', '300k'])\n",
    "plt.title('Distribution of Borrowers Monthly Income', fontsize = 14, fontweight = 'bold')\n",
    "\n",
    "plt.show()"
   ]
  },
  {
   "cell_type": "markdown",
   "id": "056cede0",
   "metadata": {
    "slideshow": {
     "slide_type": "slide"
    }
   },
   "source": [
    "## Distribution of Debt-To-Income Ratio\n",
    "\n",
    "The modest bin size for DebtToIncomeRatio proves to be extremely instructive. Its distribution is right-skewed, with most of the loans falling into the low debt-to-income ratio range and few falling into the high debt-to-income range."
   ]
  },
  {
   "cell_type": "code",
   "execution_count": 15,
   "id": "85301aba",
   "metadata": {
    "slideshow": {
     "slide_type": "subslide"
    }
   },
   "outputs": [
    {
     "data": {
      "image/png": "[encoded data removed]",
      "text/plain": [
       "<Figure size 576x360 with 1 Axes>"
      ]
     },
     "metadata": {
      "needs_background": "light"
     },
     "output_type": "display_data"
    }
   ],
   "source": [
    "binsize = 0.025\n",
    "\n",
    "plt.figure(figsize = [8, 5])\n",
    "bins = np.arange(0, loan_clean['DebtToIncomeRatio'].max()+binsize, binsize)\n",
    "plt.hist(data = loan_clean, x = 'DebtToIncomeRatio', bins=bins)\n",
    "plt.xlim([0, 1.25])\n",
    "plt.xlabel('Debt-to-Income Ratio')\n",
    "plt.title('Distribution of Debt-To-Income Ratio', fontsize = 16, fontweight = 'bold')\n",
    "\n",
    "plt.show()"
   ]
  },
  {
   "cell_type": "markdown",
   "id": "0d4c08ec",
   "metadata": {
    "slideshow": {
     "slide_type": "slide"
    }
   },
   "source": [
    "## Distribution of APR & Distribution of Interest Rate\n",
    "\n",
    "Both variables appear to have a distribution shape that is almost symmetical in character, with a spike between the range of 0.3 and 0.4 of the rates appearing to indicate the modal value of both variables. In comparison to BorrowerIR, BorrowerAPR typically has a greater modal value."
   ]
  },
  {
   "cell_type": "code",
   "execution_count": 16,
   "id": "fc2311ba",
   "metadata": {
    "scrolled": true,
    "slideshow": {
     "slide_type": "subslide"
    }
   },
   "outputs": [
    {
     "data": {
      "image/png": "[encoded data removed]",
      "text/plain": [
       "<Figure size 1152x288 with 2 Axes>"
      ]
     },
     "metadata": {
      "needs_background": "light"
     },
     "output_type": "display_data"
    }
   ],
   "source": [
    "plt.figure(figsize = [16, 4])\n",
    "\n",
    "plt.subplot(1, 2, 1)\n",
    "bins = np.arange(0, loan_clean['BorrowerAPR'].max()+0.0075, 0.0075)\n",
    "plt.hist(data = loan_clean, x = 'BorrowerAPR', bins = bins);\n",
    "plt.xlabel('Annual Percentage Rate (APR)')\n",
    "plt.title('Distribution of APR', fontsize = 16, fontweight = 'bold')\n",
    "\n",
    "\n",
    "\n",
    "plt.subplot(1, 2, 2)\n",
    "bins_IR = np.arange(0, loan_clean['BorrowerRate'].max()+0.0050, 0.0050)\n",
    "plt.hist(data = loan_clean, x = 'BorrowerRate', bins = bins_IR);\n",
    "plt.xlabel('Interest Rate (IR)')\n",
    "plt.title('Distribution of Interest Rate', fontsize = 16, fontweight = 'bold')\n",
    "\n",
    "plt.show()"
   ]
  },
  {
   "cell_type": "markdown",
   "id": "51d4ff2d",
   "metadata": {
    "slideshow": {
     "slide_type": "slide"
    }
   },
   "source": [
    "## Proportions of Loan status\n",
    "\n",
    "The majority of loans granted, or 49.3%, are in the \"current loan-status,\" with \"others,\" which represents closed loans, coming in second with 48.7%. The lowest percentage of loans authorized is for \"FinalPaymentInProgress\" loans, which is 0.2%. \n",
    "Note: Others here are loan status that are (Completed, Chargedoff, Defaulted, Cancelled)"
   ]
  },
  {
   "cell_type": "code",
   "execution_count": 17,
   "id": "b70a5df2",
   "metadata": {
    "slideshow": {
     "slide_type": "skip"
    }
   },
   "outputs": [
    {
     "data": {
      "text/html": [
       "<div>\n",
       "<style scoped>\n",
       "    .dataframe tbody tr th:only-of-type {\n",
       "        vertical-align: middle;\n",
       "    }\n",
       "\n",
       "    .dataframe tbody tr th {\n",
       "        vertical-align: top;\n",
       "    }\n",
       "\n",
       "    .dataframe thead th {\n",
       "        text-align: right;\n",
       "    }\n",
       "</style>\n",
       "<table border=\"1\" class=\"dataframe\">\n",
       "  <thead>\n",
       "    <tr style=\"text-align: right;\">\n",
       "      <th></th>\n",
       "      <th>status</th>\n",
       "      <th>counts</th>\n",
       "    </tr>\n",
       "  </thead>\n",
       "  <tbody>\n",
       "    <tr>\n",
       "      <th>0</th>\n",
       "      <td>Current</td>\n",
       "      <td>55730</td>\n",
       "    </tr>\n",
       "    <tr>\n",
       "      <th>1</th>\n",
       "      <td>Completed</td>\n",
       "      <td>38061</td>\n",
       "    </tr>\n",
       "    <tr>\n",
       "      <th>2</th>\n",
       "      <td>Chargedoff</td>\n",
       "      <td>11992</td>\n",
       "    </tr>\n",
       "    <tr>\n",
       "      <th>3</th>\n",
       "      <td>Defaulted</td>\n",
       "      <td>5018</td>\n",
       "    </tr>\n",
       "    <tr>\n",
       "      <th>4</th>\n",
       "      <td>Past Due (1-15 days)</td>\n",
       "      <td>800</td>\n",
       "    </tr>\n",
       "    <tr>\n",
       "      <th>5</th>\n",
       "      <td>Past Due (31-60 days)</td>\n",
       "      <td>361</td>\n",
       "    </tr>\n",
       "    <tr>\n",
       "      <th>6</th>\n",
       "      <td>Past Due (61-90 days)</td>\n",
       "      <td>311</td>\n",
       "    </tr>\n",
       "    <tr>\n",
       "      <th>7</th>\n",
       "      <td>Past Due (91-120 days)</td>\n",
       "      <td>304</td>\n",
       "    </tr>\n",
       "    <tr>\n",
       "      <th>8</th>\n",
       "      <td>Past Due (16-30 days)</td>\n",
       "      <td>265</td>\n",
       "    </tr>\n",
       "    <tr>\n",
       "      <th>9</th>\n",
       "      <td>FinalPaymentInProgress</td>\n",
       "      <td>203</td>\n",
       "    </tr>\n",
       "    <tr>\n",
       "      <th>10</th>\n",
       "      <td>Past Due (&gt;120 days)</td>\n",
       "      <td>16</td>\n",
       "    </tr>\n",
       "    <tr>\n",
       "      <th>11</th>\n",
       "      <td>Cancelled</td>\n",
       "      <td>5</td>\n",
       "    </tr>\n",
       "  </tbody>\n",
       "</table>\n",
       "</div>"
      ],
      "text/plain": [
       "                    status  counts\n",
       "0                  Current   55730\n",
       "1                Completed   38061\n",
       "2               Chargedoff   11992\n",
       "3                Defaulted    5018\n",
       "4     Past Due (1-15 days)     800\n",
       "5    Past Due (31-60 days)     361\n",
       "6    Past Due (61-90 days)     311\n",
       "7   Past Due (91-120 days)     304\n",
       "8    Past Due (16-30 days)     265\n",
       "9   FinalPaymentInProgress     203\n",
       "10    Past Due (>120 days)      16\n",
       "11               Cancelled       5"
      ]
     },
     "execution_count": 17,
     "metadata": {},
     "output_type": "execute_result"
    }
   ],
   "source": [
    "status = loan_clean['LoanStatus'].value_counts()\n",
    "\n",
    "loan_status = status.reset_index(name = 'counts')\n",
    "loan_status.rename(columns = {'index': 'status'},  inplace=True)\n",
    "\n",
    "loan_status"
   ]
  },
  {
   "cell_type": "code",
   "execution_count": 18,
   "id": "14af2190",
   "metadata": {
    "slideshow": {
     "slide_type": "skip"
    }
   },
   "outputs": [
    {
     "name": "stdout",
     "output_type": "stream",
     "text": [
      "<class 'pandas.core.frame.DataFrame'>\n",
      "RangeIndex: 8 entries, 0 to 7\n",
      "Data columns (total 3 columns):\n",
      " #   Column  Non-Null Count  Dtype \n",
      "---  ------  --------------  ----- \n",
      " 0   index   8 non-null      int64 \n",
      " 1   status  8 non-null      object\n",
      " 2   counts  8 non-null      int64 \n",
      "dtypes: int64(2), object(1)\n",
      "memory usage: 320.0+ bytes\n"
     ]
    }
   ],
   "source": [
    "loan_active = loan_status.loc[np.r_[0:1, 4:11], :] #active loans are loans that are not closed\n",
    "\n",
    "loan_active.reset_index(inplace=True)\n",
    "loan_active.info()"
   ]
  },
  {
   "cell_type": "code",
   "execution_count": 19,
   "id": "e4e13f6c",
   "metadata": {
    "slideshow": {
     "slide_type": "skip"
    }
   },
   "outputs": [
    {
     "data": {
      "text/plain": [
       "57990"
      ]
     },
     "execution_count": 19,
     "metadata": {},
     "output_type": "execute_result"
    }
   ],
   "source": [
    "loan_active = loan_active[['status', 'counts']]\n",
    "loan_active['counts'].sum()"
   ]
  },
  {
   "cell_type": "code",
   "execution_count": 20,
   "id": "4ab142f4",
   "metadata": {
    "slideshow": {
     "slide_type": "skip"
    }
   },
   "outputs": [
    {
     "data": {
      "text/html": [
       "<div>\n",
       "<style scoped>\n",
       "    .dataframe tbody tr th:only-of-type {\n",
       "        vertical-align: middle;\n",
       "    }\n",
       "\n",
       "    .dataframe tbody tr th {\n",
       "        vertical-align: top;\n",
       "    }\n",
       "\n",
       "    .dataframe thead th {\n",
       "        text-align: right;\n",
       "    }\n",
       "</style>\n",
       "<table border=\"1\" class=\"dataframe\">\n",
       "  <thead>\n",
       "    <tr style=\"text-align: right;\">\n",
       "      <th></th>\n",
       "      <th>status</th>\n",
       "      <th>counts</th>\n",
       "    </tr>\n",
       "  </thead>\n",
       "  <tbody>\n",
       "    <tr>\n",
       "      <th>0</th>\n",
       "      <td>others</td>\n",
       "      <td>55076</td>\n",
       "    </tr>\n",
       "  </tbody>\n",
       "</table>\n",
       "</div>"
      ],
      "text/plain": [
       "   status  counts\n",
       "0  others   55076"
      ]
     },
     "execution_count": 20,
     "metadata": {},
     "output_type": "execute_result"
    }
   ],
   "source": [
    "loan_inactive = pd.DataFrame(data = {\n",
    "    'status': ['others'], \n",
    "    'counts': [loan_status['counts'].loc[np.r_[1:4, 11:12]].sum()]\n",
    "})\n",
    "\n",
    "loan_inactive #inactive loans are the closed loans"
   ]
  },
  {
   "cell_type": "code",
   "execution_count": 21,
   "id": "17c09b64",
   "metadata": {
    "slideshow": {
     "slide_type": "skip"
    }
   },
   "outputs": [
    {
     "data": {
      "text/html": [
       "<div>\n",
       "<style scoped>\n",
       "    .dataframe tbody tr th:only-of-type {\n",
       "        vertical-align: middle;\n",
       "    }\n",
       "\n",
       "    .dataframe tbody tr th {\n",
       "        vertical-align: top;\n",
       "    }\n",
       "\n",
       "    .dataframe thead th {\n",
       "        text-align: right;\n",
       "    }\n",
       "</style>\n",
       "<table border=\"1\" class=\"dataframe\">\n",
       "  <thead>\n",
       "    <tr style=\"text-align: right;\">\n",
       "      <th></th>\n",
       "      <th>status</th>\n",
       "      <th>counts</th>\n",
       "    </tr>\n",
       "  </thead>\n",
       "  <tbody>\n",
       "    <tr>\n",
       "      <th>0</th>\n",
       "      <td>Current</td>\n",
       "      <td>55730</td>\n",
       "    </tr>\n",
       "    <tr>\n",
       "      <th>1</th>\n",
       "      <td>Past Due (1-15 days)</td>\n",
       "      <td>800</td>\n",
       "    </tr>\n",
       "    <tr>\n",
       "      <th>2</th>\n",
       "      <td>Past Due (31-60 days)</td>\n",
       "      <td>361</td>\n",
       "    </tr>\n",
       "    <tr>\n",
       "      <th>3</th>\n",
       "      <td>Past Due (61-90 days)</td>\n",
       "      <td>311</td>\n",
       "    </tr>\n",
       "    <tr>\n",
       "      <th>4</th>\n",
       "      <td>Past Due (91-120 days)</td>\n",
       "      <td>304</td>\n",
       "    </tr>\n",
       "    <tr>\n",
       "      <th>5</th>\n",
       "      <td>Past Due (16-30 days)</td>\n",
       "      <td>265</td>\n",
       "    </tr>\n",
       "    <tr>\n",
       "      <th>6</th>\n",
       "      <td>FinalPaymentInProgress</td>\n",
       "      <td>203</td>\n",
       "    </tr>\n",
       "    <tr>\n",
       "      <th>7</th>\n",
       "      <td>Past Due (&gt;120 days)</td>\n",
       "      <td>16</td>\n",
       "    </tr>\n",
       "    <tr>\n",
       "      <th>8</th>\n",
       "      <td>others</td>\n",
       "      <td>55076</td>\n",
       "    </tr>\n",
       "  </tbody>\n",
       "</table>\n",
       "</div>"
      ],
      "text/plain": [
       "                   status  counts\n",
       "0                 Current   55730\n",
       "1    Past Due (1-15 days)     800\n",
       "2   Past Due (31-60 days)     361\n",
       "3   Past Due (61-90 days)     311\n",
       "4  Past Due (91-120 days)     304\n",
       "5   Past Due (16-30 days)     265\n",
       "6  FinalPaymentInProgress     203\n",
       "7    Past Due (>120 days)      16\n",
       "8                  others   55076"
      ]
     },
     "execution_count": 21,
     "metadata": {},
     "output_type": "execute_result"
    }
   ],
   "source": [
    "#combining the loan_active and loan_inactive tables together\n",
    "loan_status = pd.concat([loan_active, loan_inactive])\n",
    "loan_status.reset_index(inplace=True)\n",
    "\n",
    "loan_status = loan_status[['status', 'counts']]\n",
    "loan_status"
   ]
  },
  {
   "cell_type": "markdown",
   "id": "774914d1",
   "metadata": {
    "slideshow": {
     "slide_type": "skip"
    }
   },
   "source": [
    "> others in this table represent loans that are inactive i.e (Completed, Chargedoff, Defaulted, Cancelled)"
   ]
  },
  {
   "cell_type": "code",
   "execution_count": 22,
   "id": "370b770c",
   "metadata": {
    "slideshow": {
     "slide_type": "skip"
    }
   },
   "outputs": [
    {
     "data": {
      "text/html": [
       "<div>\n",
       "<style scoped>\n",
       "    .dataframe tbody tr th:only-of-type {\n",
       "        vertical-align: middle;\n",
       "    }\n",
       "\n",
       "    .dataframe tbody tr th {\n",
       "        vertical-align: top;\n",
       "    }\n",
       "\n",
       "    .dataframe thead th {\n",
       "        text-align: right;\n",
       "    }\n",
       "</style>\n",
       "<table border=\"1\" class=\"dataframe\">\n",
       "  <thead>\n",
       "    <tr style=\"text-align: right;\">\n",
       "      <th></th>\n",
       "      <th>status</th>\n",
       "      <th>counts</th>\n",
       "    </tr>\n",
       "  </thead>\n",
       "  <tbody>\n",
       "    <tr>\n",
       "      <th>0</th>\n",
       "      <td>Current</td>\n",
       "      <td>55730</td>\n",
       "    </tr>\n",
       "    <tr>\n",
       "      <th>1</th>\n",
       "      <td>FinalPaymentInProgress</td>\n",
       "      <td>203</td>\n",
       "    </tr>\n",
       "    <tr>\n",
       "      <th>2</th>\n",
       "      <td>others</td>\n",
       "      <td>55076</td>\n",
       "    </tr>\n",
       "  </tbody>\n",
       "</table>\n",
       "</div>"
      ],
      "text/plain": [
       "                   status  counts\n",
       "0                 Current   55730\n",
       "1  FinalPaymentInProgress     203\n",
       "2                  others   55076"
      ]
     },
     "execution_count": 22,
     "metadata": {},
     "output_type": "execute_result"
    }
   ],
   "source": [
    "loan_status_new = loan_status.loc[np.r_[0:1, 6:7, 8:9], :]\n",
    "\n",
    "loan_status_new.reset_index(inplace=True)\n",
    "loan_status_new\n",
    "\n",
    "loan_status_new = loan_status_new[['status', 'counts']]\n",
    "loan_status_new"
   ]
  },
  {
   "cell_type": "code",
   "execution_count": 23,
   "id": "d2fd135e",
   "metadata": {
    "slideshow": {
     "slide_type": "skip"
    }
   },
   "outputs": [
    {
     "data": {
      "text/html": [
       "<div>\n",
       "<style scoped>\n",
       "    .dataframe tbody tr th:only-of-type {\n",
       "        vertical-align: middle;\n",
       "    }\n",
       "\n",
       "    .dataframe tbody tr th {\n",
       "        vertical-align: top;\n",
       "    }\n",
       "\n",
       "    .dataframe thead th {\n",
       "        text-align: right;\n",
       "    }\n",
       "</style>\n",
       "<table border=\"1\" class=\"dataframe\">\n",
       "  <thead>\n",
       "    <tr style=\"text-align: right;\">\n",
       "      <th></th>\n",
       "      <th>status</th>\n",
       "      <th>counts</th>\n",
       "    </tr>\n",
       "  </thead>\n",
       "  <tbody>\n",
       "    <tr>\n",
       "      <th>0</th>\n",
       "      <td>Past Dues</td>\n",
       "      <td>2057</td>\n",
       "    </tr>\n",
       "  </tbody>\n",
       "</table>\n",
       "</div>"
      ],
      "text/plain": [
       "      status  counts\n",
       "0  Past Dues    2057"
      ]
     },
     "execution_count": 23,
     "metadata": {},
     "output_type": "execute_result"
    }
   ],
   "source": [
    "past_dues = pd.DataFrame(data = {\n",
    "    'status': ['Past Dues'], \n",
    "    'counts': [loan_status['counts'].loc[np.r_[1:6, 7:8]].sum()]\n",
    "})\n",
    "past_dues #we combine all the past due loans together"
   ]
  },
  {
   "cell_type": "code",
   "execution_count": 24,
   "id": "b40f92dd",
   "metadata": {
    "slideshow": {
     "slide_type": "skip"
    }
   },
   "outputs": [
    {
     "data": {
      "text/html": [
       "<div>\n",
       "<style scoped>\n",
       "    .dataframe tbody tr th:only-of-type {\n",
       "        vertical-align: middle;\n",
       "    }\n",
       "\n",
       "    .dataframe tbody tr th {\n",
       "        vertical-align: top;\n",
       "    }\n",
       "\n",
       "    .dataframe thead th {\n",
       "        text-align: right;\n",
       "    }\n",
       "</style>\n",
       "<table border=\"1\" class=\"dataframe\">\n",
       "  <thead>\n",
       "    <tr style=\"text-align: right;\">\n",
       "      <th></th>\n",
       "      <th>status</th>\n",
       "      <th>counts</th>\n",
       "    </tr>\n",
       "  </thead>\n",
       "  <tbody>\n",
       "    <tr>\n",
       "      <th>0</th>\n",
       "      <td>Current</td>\n",
       "      <td>55730</td>\n",
       "    </tr>\n",
       "    <tr>\n",
       "      <th>1</th>\n",
       "      <td>FinalPaymentInProgress</td>\n",
       "      <td>203</td>\n",
       "    </tr>\n",
       "    <tr>\n",
       "      <th>2</th>\n",
       "      <td>others</td>\n",
       "      <td>55076</td>\n",
       "    </tr>\n",
       "    <tr>\n",
       "      <th>3</th>\n",
       "      <td>Past Dues</td>\n",
       "      <td>2057</td>\n",
       "    </tr>\n",
       "  </tbody>\n",
       "</table>\n",
       "</div>"
      ],
      "text/plain": [
       "                   status  counts\n",
       "0                 Current   55730\n",
       "1  FinalPaymentInProgress     203\n",
       "2                  others   55076\n",
       "3               Past Dues    2057"
      ]
     },
     "execution_count": 24,
     "metadata": {},
     "output_type": "execute_result"
    }
   ],
   "source": [
    "loan_status = pd.concat([loan_status_new, past_dues])\n",
    "loan_status.reset_index(inplace=True)\n",
    "\n",
    "loan_status = loan_status[['status', 'counts']]\n",
    "loan_status"
   ]
  },
  {
   "cell_type": "markdown",
   "id": "d2e11464",
   "metadata": {
    "slideshow": {
     "slide_type": "skip"
    }
   },
   "source": [
    "Our final loan status table."
   ]
  },
  {
   "cell_type": "code",
   "execution_count": 25,
   "id": "4d2844f0",
   "metadata": {
    "scrolled": true,
    "slideshow": {
     "slide_type": "subslide"
    }
   },
   "outputs": [
    {
     "data": {
      "image/png": "[encoded data removed]",
      "text/plain": [
       "<Figure size 576x432 with 1 Axes>"
      ]
     },
     "metadata": {},
     "output_type": "display_data"
    }
   ],
   "source": [
    "plt.figure(figsize = [8, 6])\n",
    "colors = sns.color_palette('tab20')\n",
    "explode = (0.1, 0.1, 0.1, 0.1)\n",
    "plt.pie(loan_status['counts'], labels = loan_status['status'], explode =explode, \n",
    "        counterclock=False, startangle = 90, shadow=True, colors=colors, autopct='%1.1f%%')\n",
    "\n",
    "plt.title('Proportions of Loan status', fontsize = 16, fontweight = 'bold')\n",
    "plt.legend(title='Loan status', loc = 1)\n",
    "plt.axis('square');"
   ]
  },
  {
   "cell_type": "markdown",
   "id": "965621de",
   "metadata": {
    "slideshow": {
     "slide_type": "slide"
    }
   },
   "source": [
    "## Absolute Frequency of Prosper Risk Levels & Prosper Ratings\n",
    "\n",
    "It is clear from the countplots that the highest loan distribution belongs to the rating \"4.0-C,\" and the level of risk connected to the greatest loan count is \"medium high.\""
   ]
  },
  {
   "cell_type": "code",
   "execution_count": 26,
   "id": "f9bb04db",
   "metadata": {
    "slideshow": {
     "slide_type": "subslide"
    }
   },
   "outputs": [
    {
     "data": {
      "image/png": "[encoded data removed]",
      "text/plain": [
       "<Figure size 1152x288 with 2 Axes>"
      ]
     },
     "metadata": {
      "needs_background": "light"
     },
     "output_type": "display_data"
    }
   ],
   "source": [
    "plt.figure(figsize = [16, 4])\n",
    "\n",
    "base_color = sns.color_palette()[0]\n",
    "\n",
    "plt.subplot(1, 2, 1)\n",
    "sns.countplot(data = loan_clean, x = 'ProsperRating', color = base_color)\n",
    "plt.title('Absolute Frequency of Prosper Ratings', fontsize = 12, fontweight = 'bold')\n",
    "\n",
    "plt.subplot(1, 2, 2)\n",
    "sns.countplot(data = loan_clean, x = 'ProsperRiskLevel', color = base_color)\n",
    "plt.title('Absolute Frequency of Prosper Risk Levels', fontsize = 12, fontweight = 'bold')\n",
    "plt.show()"
   ]
  },
  {
   "cell_type": "markdown",
   "id": "f95fbd71",
   "metadata": {
    "slideshow": {
     "slide_type": "slide"
    }
   },
   "source": [
    "## Relative Frequency of Employment status\n",
    "\n",
    "Employed individuals make up a greater proportion of loan borrowers, while retirees make up the smallest proportion. "
   ]
  },
  {
   "cell_type": "code",
   "execution_count": 27,
   "id": "41fa365f",
   "metadata": {
    "slideshow": {
     "slide_type": "skip"
    }
   },
   "outputs": [
    {
     "name": "stdout",
     "output_type": "stream",
     "text": [
      "113066\n",
      "110811\n"
     ]
    }
   ],
   "source": [
    "#we assigned gen_order as the variable representing the EmploymentStatus categorical levels\n",
    "gen_order = loan_clean['EmploymentStatus'].value_counts().index\n",
    "\n",
    "#we assigned order as the variable representing the ListingCategory categorical levels\n",
    "order = loan_clean['ListingCategory'].value_counts().index\n",
    "\n",
    "n_loan = loan_clean['ListingCategory'].value_counts().sum()\n",
    "print(n_loan)\n",
    "n_loan_Emp_status = loan_clean['EmploymentStatus'].value_counts().sum()\n",
    "print(n_loan_Emp_status)"
   ]
  },
  {
   "cell_type": "code",
   "execution_count": 28,
   "id": "ae82cacb",
   "metadata": {
    "slideshow": {
     "slide_type": "skip"
    }
   },
   "outputs": [],
   "source": [
    "category_counts = loan_clean['ListingCategory'].value_counts()\n",
    "Employment_stat_counts = loan_clean['EmploymentStatus'].value_counts()"
   ]
  },
  {
   "cell_type": "code",
   "execution_count": 29,
   "id": "2be626cf",
   "metadata": {
    "slideshow": {
     "slide_type": "subslide"
    }
   },
   "outputs": [
    {
     "data": {
      "image/png": "[encoded data removed]",
      "text/plain": [
       "<Figure size 576x576 with 1 Axes>"
      ]
     },
     "metadata": {
      "needs_background": "light"
     },
     "output_type": "display_data"
    }
   ],
   "source": [
    "gen_order = loan_clean['EmploymentStatus'].value_counts().index\n",
    "\n",
    "plt.figure(figsize = [8, 8])\n",
    "sns.countplot(data = loan_clean, y = 'EmploymentStatus', order = gen_order, color = base_color)\n",
    "# Logic to print the proportion text on the bars\n",
    "for i in range (Employment_stat_counts.shape[0]):\n",
    "    count = Employment_stat_counts[i]\n",
    "    # Convert count into a percentage, and then into string\n",
    "    pct_string = '{:0.1f}%'.format(100*count / n_loan_Emp_status)\n",
    "    # Print the string value on the bar.\n",
    "    plt.text(count+1, i, pct_string, va = 'center')\n",
    "    plt.title('Relative Frequency of Employment status', fontsize = 16, fontweight = 'bold')\n",
    "\n"
   ]
  },
  {
   "cell_type": "markdown",
   "id": "41276623",
   "metadata": {
    "slideshow": {
     "slide_type": "slide"
    }
   },
   "source": [
    "## Relative Frequency of Listing Category\n",
    "\n",
    "The majority of borrowers choose to use the loan for debt consolidation when choosing their ListingCategory.\n",
    "- Debt consolidation: it refers to the act of taking out a new loan to pay off other liabilities and consumer debts."
   ]
  },
  {
   "cell_type": "code",
   "execution_count": 30,
   "id": "a93d9f94",
   "metadata": {
    "slideshow": {
     "slide_type": "subslide"
    }
   },
   "outputs": [
    {
     "data": {
      "image/png": "[encoded data removed]",
      "text/plain": [
       "<Figure size 576x576 with 1 Axes>"
      ]
     },
     "metadata": {
      "needs_background": "light"
     },
     "output_type": "display_data"
    }
   ],
   "source": [
    "order = loan_clean['ListingCategory'].value_counts().index\n",
    "\n",
    "plt.figure(figsize = [8, 8])\n",
    "sns.countplot(data = loan_clean, y = 'ListingCategory', order = order, color = base_color)\n",
    "# Logic to print the proportion text on the bars\n",
    "for i in range (category_counts.shape[0]):\n",
    "    count = category_counts[i]\n",
    "    # Convert count into a percentage, and then into string\n",
    "    pct_string = '{:0.1f}%'.format(100*count / n_loan )\n",
    "    # Print the string value on the bar.\n",
    "    plt.text(count+1, i, pct_string, va = 'center')\n",
    "    plt.title('Relative Frequency of Listing Category', fontsize = 16, fontweight = 'bold')\n",
    "\n"
   ]
  },
  {
   "cell_type": "markdown",
   "id": "658a4db2",
   "metadata": {
    "slideshow": {
     "slide_type": "slide"
    }
   },
   "source": [
    "## Proportion Of Loan Terms\n",
    "\n",
    "It is clear from the donut plot that the loan term that is most frequently offered is 36 months, accounting for 77.1% of all loan counts, and the period with the lowest proportion is 12 months."
   ]
  },
  {
   "cell_type": "code",
   "execution_count": 31,
   "id": "19b8a69d",
   "metadata": {
    "slideshow": {
     "slide_type": "subslide"
    }
   },
   "outputs": [
    {
     "data": {
      "image/png": "[encoded data removed]",
      "text/plain": [
       "<Figure size 576x432 with 1 Axes>"
      ]
     },
     "metadata": {},
     "output_type": "display_data"
    }
   ],
   "source": [
    "sorted_count = loan_clean['Term'].value_counts()\n",
    "\n",
    "plt.figure(figsize = [8, 6])\n",
    "\n",
    "colors = sns.color_palette('inferno_r')\n",
    "months = ['36 Months', '60 Months', '12 Months']\n",
    "explodes = (0.02, 0.02, 0.02)\n",
    "\n",
    "plt.pie(sorted_count, labels = months , autopct='%1.1f%%', pctdistance=0.75,\n",
    "        explode=explodes, startangle = 90, wedgeprops = {'width' : 0.5}, counterclock = False, colors=colors)\n",
    "\n",
    "plt.title('Proportion Of Loan Terms', fontsize = 16, fontweight = 'bold')\n",
    "plt.legend(title='Loan status', loc = 6)\n",
    "plt.axis('square');"
   ]
  },
  {
   "cell_type": "markdown",
   "id": "6bcf83b6",
   "metadata": {
    "slideshow": {
     "slide_type": "slide"
    }
   },
   "source": [
    "## Correlation OF All Numeric Key Variables\n",
    "\n",
    "- Debt-to-income ratio and borrower APR have a modest association, indicating that the impact of the ratio on the APR is not very substantial.<br>\n",
    "- The relationship between borrowerAPR and borrowerrate is negative for both credit score groups (higher & lower). This explains why the borrower is eligible for a reduced APR and interest rate with better credit scores.\n",
    "- There is an inverse relationship between LoanOriginalAmount and the BorrowerAPR. This indicates that the smaller the loans size, the greater the interest rate applied, the higher the loan size, the smaller the interest rate\n"
   ]
  },
  {
   "cell_type": "code",
   "execution_count": 32,
   "id": "978e220f",
   "metadata": {
    "slideshow": {
     "slide_type": "skip"
    }
   },
   "outputs": [
    {
     "data": {
      "text/plain": [
       "['$25,000-49,999', '$50,000-74,999', '$100,000+', '$75,000-99,999', '$1-24,999']\n",
       "Categories (5, object): ['$1-24,999' < '$25,000-49,999' < '$50,000-74,999' < '$75,000-99,999' < '$100,000+']"
      ]
     },
     "execution_count": 32,
     "metadata": {},
     "output_type": "execute_result"
    }
   ],
   "source": [
    "annual_income_loan = loan_clean[loan_clean['IncomeRange'].isin(['$25,000-49,999', '$50,000-74,999', '$100,000+',\n",
    "                                   '$75,000-99,999', '$1-24,999'])]\n",
    "\n",
    "income = ['$1-24,999', '$25,000-49,999', '$50,000-74,999', '$75,000-99,999', '$100,000+']\n",
    "\n",
    "IncomeClasses = pd.api.types.CategoricalDtype(ordered = True, categories = income)\n",
    "\n",
    "annual_income_loan['IncomeRange'] = annual_income_loan['IncomeRange'].astype(IncomeClasses)\n",
    "annual_income_loan['IncomeRange'].unique()"
   ]
  },
  {
   "cell_type": "code",
   "execution_count": 33,
   "id": "bf81bdee",
   "metadata": {
    "slideshow": {
     "slide_type": "skip"
    }
   },
   "outputs": [
    {
     "data": {
      "text/plain": [
       "[36, 60, 12]\n",
       "Categories (3, int64): [12 < 36 < 60]"
      ]
     },
     "execution_count": 33,
     "metadata": {},
     "output_type": "execute_result"
    }
   ],
   "source": [
    "term = [12, 36, 60]\n",
    "\n",
    "terms = pd.api.types.CategoricalDtype(ordered = True, categories = term)\n",
    "\n",
    "annual_income_loan['Term'] = annual_income_loan['Term'].astype(terms)\n",
    "annual_income_loan['Term'].unique()"
   ]
  },
  {
   "cell_type": "code",
   "execution_count": 34,
   "id": "f72f9ece",
   "metadata": {
    "slideshow": {
     "slide_type": "skip"
    }
   },
   "outputs": [],
   "source": [
    "numeric_vars = ['BorrowerAPR', 'BorrowerRate', 'LenderYield', 'DebtToIncomeRatio',\n",
    "                'CreditScoreRangeLower', 'CreditScoreRangeUpper', 'AvailableBankcardCredit',\n",
    "               'LoanOriginalAmount', 'MonthlyLoanPayment', 'StatedMonthlyIncome']\n",
    "\n",
    "categorical_vars = ['Term','ProsperRiskLevel', 'ProsperRating', 'IsBorrowerHomeowner', 'IncomeRange']"
   ]
  },
  {
   "cell_type": "code",
   "execution_count": 35,
   "id": "0e92b897",
   "metadata": {
    "slideshow": {
     "slide_type": "subslide"
    }
   },
   "outputs": [
    {
     "data": {
      "image/png": "[encoded data removed]",
      "text/plain": [
       "<Figure size 864x576 with 2 Axes>"
      ]
     },
     "metadata": {
      "needs_background": "light"
     },
     "output_type": "display_data"
    }
   ],
   "source": [
    "# correlation plot\n",
    "plt.figure(figsize = [12, 8])\n",
    "sns.heatmap(annual_income_loan[numeric_vars].corr(), annot = True, fmt = '.3f',\n",
    "           cmap = 'inferno_r', center = 0)\n",
    "plt.title('Correlation Matrix for all Numerical variables ', fontweight = 'bold')\n",
    "plt.show()"
   ]
  },
  {
   "cell_type": "markdown",
   "id": "e5ab252f",
   "metadata": {
    "slideshow": {
     "slide_type": "slide"
    }
   },
   "source": [
    "## Risk Level and Terms By Loan Amount & APR\n",
    "\n",
    "It's interesting to see that the two important numeric variables appear to have some meaningful correlations with the category variables. The loan amounts awarded to borrowers with the highest risk levels are remarkably small. This relates to a common scenario in which lenders won't be prepared to offer greater loans when they believe the risk to be very high. \n",
    "\n",
    "Longer loan terms are linked to higher loan amounts, with a 60-month loan often costing between $10,000 and $15,000. This sum exceeds the average loan amount with a shorter term. As compared to other terms, a shorter loan term offers a lower average annual percentage rate. Ideally, the APR is lower for loans with shorter terms."
   ]
  },
  {
   "cell_type": "code",
   "execution_count": 36,
   "id": "2286e018",
   "metadata": {
    "slideshow": {
     "slide_type": "subslide"
    }
   },
   "outputs": [
    {
     "data": {
      "image/png": "[encoded data removed]",
      "text/plain": [
       "<Figure size 972x432 with 6 Axes>"
      ]
     },
     "metadata": {
      "needs_background": "light"
     },
     "output_type": "display_data"
    }
   ],
   "source": [
    "loan_samp = annual_income_loan.sample(n=4000, replace = False) #loan sample of 4000\n",
    "\n",
    "def boxgrid(x, y, **kwargs):\n",
    "    \"\"\"Box plots may be quickly produced using Seaborn's PairGrid..\"\"\"\n",
    "    default_color = sns.color_palette()[1]\n",
    "    sns.boxplot(x=x, y=y, color=default_color)\n",
    "\n",
    "\n",
    "g = sns.PairGrid(data = loan_samp, y_vars = ['BorrowerAPR', 'LoanOriginalAmount'],\n",
    "                x_vars =['ProsperRiskLevel', 'Term', 'IsBorrowerHomeowner'],\n",
    "                height = 3, aspect = 1.5)\n",
    "g.map(boxgrid)\n",
    "plt.show()"
   ]
  },
  {
   "cell_type": "markdown",
   "id": "6d11f664",
   "metadata": {
    "slideshow": {
     "slide_type": "slide"
    }
   },
   "source": [
    "## Trends in Average Loan Amount\n",
    "\n",
    "The average loan amount issued to the borrower decreased from 2007 to 2009, as seen by the line plot, which shows the trends of average loan initial amount for each year starting in 2007. In 2009, the trend reached its lowest point and The reason for this is because prosper closed in 2009 to complete the SEC filing procedure and reopened on July 1st, 2009, following SEC registration. [Prosper 2009](https://onlinemoneyfordads.com/is-prosper-a-scam-get-the-answers-in-my-review/#:~:text=Prosper%20had%20shut%20down%20in%202009%20to%20go,scale%3B%20so%20Prosper%E2%80%99s%20rank%20is%20an%20excellent%20rating).\n",
    "\n",
    "The average loan amount issued to borrowers increased steadily starting in 2010 and continued through 2014, according to data."
   ]
  },
  {
   "cell_type": "code",
   "execution_count": 37,
   "id": "747b0439",
   "metadata": {
    "slideshow": {
     "slide_type": "subslide"
    }
   },
   "outputs": [
    {
     "data": {
      "image/png": "[encoded data removed]",
      "text/plain": [
       "<Figure size 576x288 with 1 Axes>"
      ]
     },
     "metadata": {
      "needs_background": "light"
     },
     "output_type": "display_data"
    }
   ],
   "source": [
    "plt.figure(figsize = [8, 4])\n",
    "\n",
    "sns.lineplot(data = annual_income_loan, x =annual_income_loan[\n",
    "    'LoanOriginationDate'].dt.year , y = 'LoanOriginalAmount')\n",
    "\n",
    "plt.xlabel('Year')\n",
    "plt.title('Average Loan Original Amount Trend')\n",
    "plt.show()\n"
   ]
  },
  {
   "cell_type": "markdown",
   "id": "fc75d84f",
   "metadata": {
    "slideshow": {
     "slide_type": "slide"
    }
   },
   "source": [
    "## Loan Amount By Risk level and Rating\n",
    "\n",
    "ProsperRating and ProsperRiskLevel have a definite impact on loan amounts, as demonstrated by a dodge point for loans.\n",
    "There are fewer loans with higher rating grades, which accounts for the wider error bars on the right side. Moreover, according to the highest ratings, \"7.0 - AA,\" there appear to be no loans with a risk level of \"High\". The number of high-risk loans disbursed at the rating level of \"6.0 - A\" is lower, but the APR is often lower. This insight shows that loan ratings affect APR more significantly than risk level does.\n"
   ]
  },
  {
   "cell_type": "code",
   "execution_count": 38,
   "id": "79ca54d0",
   "metadata": {
    "scrolled": true,
    "slideshow": {
     "slide_type": "subslide"
    }
   },
   "outputs": [
    {
     "data": {
      "image/png": "[encoded data removed]",
      "text/plain": [
       "<Figure size 720x432 with 1 Axes>"
      ]
     },
     "metadata": {
      "needs_background": "light"
     },
     "output_type": "display_data"
    }
   ],
   "source": [
    "fig = plt.figure(figsize = [10,6])\n",
    "\n",
    "ax = sns.pointplot(data = annual_income_loan, x = 'ProsperRating', y = 'LoanOriginalAmount', hue = 'ProsperRiskLevel',\n",
    "           palette = 'Oranges_r', linestyles = '', dodge = 0.4)\n",
    "plt.title('Loan amounts take into account ratings and hazards.')\n",
    "plt.ylabel('Mean Loan Amount ($)')\n",
    "plt.yscale('log')\n",
    "plt.yticks([5e2, 1e3, 2e3, 4e3, 8e3, 16e3, 32e3], ['500', '1000', '2000', '4000', '8000', '16000', '32000'])\n",
    "ax.set_yticklabels([],minor = True)\n",
    "plt.show();"
   ]
  },
  {
   "cell_type": "code",
   "execution_count": 39,
   "id": "87a8fc84",
   "metadata": {
    "slideshow": {
     "slide_type": "skip"
    }
   },
   "outputs": [
    {
     "name": "stderr",
     "output_type": "stream",
     "text": [
      "[NbConvertApp] Converting notebook Prosper_loan_project_II.ipynb to slides\n",
      "[NbConvertApp] Writing 975963 bytes to Prosper_loan_project_II.slides.html\n",
      "[NbConvertApp] Redirecting reveal.js requests to https://cdnjs.cloudflare.com/ajax/libs/reveal.js/3.5.0\n",
      "Traceback (most recent call last):\n",
      "  File \"C:\\Users\\james\\anaconda3\\Scripts\\jupyter-nbconvert-script.py\", line 10, in <module>\n",
      "    sys.exit(main())\n",
      "  File \"C:\\Users\\james\\anaconda3\\lib\\site-packages\\jupyter_core\\application.py\", line 264, in launch_instance\n",
      "    return super(JupyterApp, cls).launch_instance(argv=argv, **kwargs)\n",
      "  File \"C:\\Users\\james\\anaconda3\\lib\\site-packages\\traitlets\\config\\application.py\", line 846, in launch_instance\n",
      "    app.start()\n",
      "  File \"C:\\Users\\james\\anaconda3\\lib\\site-packages\\nbconvert\\nbconvertapp.py\", line 369, in start\n",
      "    self.convert_notebooks()\n",
      "  File \"C:\\Users\\james\\anaconda3\\lib\\site-packages\\nbconvert\\nbconvertapp.py\", line 541, in convert_notebooks\n",
      "    self.convert_single_notebook(notebook_filename)\n",
      "  File \"C:\\Users\\james\\anaconda3\\lib\\site-packages\\nbconvert\\nbconvertapp.py\", line 508, in convert_single_notebook\n",
      "    self.postprocess_single_notebook(write_results)\n",
      "  File \"C:\\Users\\james\\anaconda3\\lib\\site-packages\\nbconvert\\nbconvertapp.py\", line 480, in postprocess_single_notebook\n",
      "    self.postprocessor(write_results)\n",
      "  File \"C:\\Users\\james\\anaconda3\\lib\\site-packages\\nbconvert\\postprocessors\\base.py\", line 28, in __call__\n",
      "    self.postprocess(input)\n",
      "  File \"C:\\Users\\james\\anaconda3\\lib\\site-packages\\nbconvert\\postprocessors\\serve.py\", line 90, in postprocess\n",
      "    http_server.listen(self.port, address=self.ip)\n",
      "  File \"C:\\Users\\james\\anaconda3\\lib\\site-packages\\tornado\\tcpserver.py\", line 151, in listen\n",
      "    sockets = bind_sockets(port, address=address)\n",
      "  File \"C:\\Users\\james\\anaconda3\\lib\\site-packages\\tornado\\netutil.py\", line 161, in bind_sockets\n",
      "    sock.bind(sockaddr)\n",
      "OSError: [WinError 10048] Only one usage of each socket address (protocol/network address/port) is normally permitted\n"
     ]
    }
   ],
   "source": [
    "!jupyter nbconvert Prosper_loan_project_II.ipynb --to slides --post serve --no-input --no-prompt"
   ]
  },
  {
   "cell_type": "code",
   "execution_count": null,
   "id": "9fa43d86",
   "metadata": {},
   "outputs": [],
   "source": []
  }
 ],
 "metadata": {
  "celltoolbar": "Slideshow",
  "kernelspec": {
   "display_name": "Python 3 (ipykernel)",
   "language": "python",
   "name": "python3"
  },
  "language_info": {
   "codemirror_mode": {
    "name": "ipython",
    "version": 3
   },
   "file_extension": ".py",
   "mimetype": "text/x-python",
   "name": "python",
   "nbconvert_exporter": "python",
   "pygments_lexer": "ipython3",
   "version": "3.9.12"
  }
 },
 "nbformat": 4,
 "nbformat_minor": 5
}
